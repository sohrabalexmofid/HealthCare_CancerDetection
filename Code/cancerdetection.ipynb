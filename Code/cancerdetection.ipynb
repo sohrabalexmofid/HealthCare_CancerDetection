{
  "nbformat": 4,
  "nbformat_minor": 0,
  "metadata": {
    "colab": {
      "provenance": [],
      "authorship_tag": "ABX9TyP/03M404W6+5WS7++JN+mh",
      "include_colab_link": true
    },
    "kernelspec": {
      "name": "python3",
      "display_name": "Python 3"
    },
    "language_info": {
      "name": "python"
    }
  },
  "cells": [
    {
      "cell_type": "markdown",
      "metadata": {
        "id": "view-in-github",
        "colab_type": "text"
      },
      "source": [
        "<a href=\"https://colab.research.google.com/github/sohrabalexmofid/CancerDetection_HealthCare/blob/main/cancerdetection.ipynb\" target=\"_parent\"><img src=\"https://colab.research.google.com/assets/colab-badge.svg\" alt=\"Open In Colab\"/></a>"
      ]
    },
    {
      "cell_type": "code",
      "execution_count": null,
      "metadata": {
        "id": "fPUZMNJU6pk8"
      },
      "outputs": [],
      "source": [
        "import pandas as pd\n",
        "import numpy as np\n",
        "import matplotlib.pyplot as plt \n",
        "import matplotlib.patches as mpatches\n",
        "import seaborn as sns\n",
        "import os"
      ]
    },
    {
      "cell_type": "code",
      "source": [
        "from google.colab import drive\n",
        "drive.mount('/content/drive')"
      ],
      "metadata": {
        "colab": {
          "base_uri": "https://localhost:8080/"
        },
        "id": "ieyw_fU77vcu",
        "outputId": "a9d7347b-2299-4e43-fe75-5338161aeaba"
      },
      "execution_count": null,
      "outputs": [
        {
          "output_type": "stream",
          "name": "stdout",
          "text": [
            "Drive already mounted at /content/drive; to attempt to forcibly remount, call drive.mount(\"/content/drive\", force_remount=True).\n"
          ]
        }
      ]
    },
    {
      "cell_type": "code",
      "source": [
        "path = \"/content/drive/MyDrive/AI & Machine Learning/Capstone Projects/Health Care/data.csv\"\n",
        "path2 = \"/content/drive/MyDrive/AI & Machine Learning/Capstone Projects/Health Care/labels.csv\"\n",
        "Data = pd.read_csv(path)\n",
        "labels = pd.read_csv(path2)\n",
        "df = pd.merge(Data,labels)\n",
        "df.head()"
      ],
      "metadata": {
        "id": "3Dea5Cpq8BOy",
        "colab": {
          "base_uri": "https://localhost:8080/",
          "height": 317
        },
        "outputId": "e7e8ccd2-9f9c-420d-e8d1-9e37b1eb07df"
      },
      "execution_count": null,
      "outputs": [
        {
          "output_type": "execute_result",
          "data": {
            "text/plain": [
              "  Unnamed: 0  gene_0    gene_1    gene_2    gene_3     gene_4  gene_5  \\\n",
              "0   sample_0     0.0  2.017209  3.265527  5.478487  10.431999     0.0   \n",
              "1   sample_1     0.0  0.592732  1.588421  7.586157   9.623011     0.0   \n",
              "2   sample_2     0.0  3.511759  4.327199  6.881787   9.870730     0.0   \n",
              "3   sample_3     0.0  3.663618  4.507649  6.659068  10.196184     0.0   \n",
              "4   sample_4     0.0  2.655741  2.821547  6.539454   9.738265     0.0   \n",
              "\n",
              "     gene_6    gene_7  gene_8  ...  gene_20522  gene_20523  gene_20524  \\\n",
              "0  7.175175  0.591871     0.0  ...    8.210257    9.723516    7.220030   \n",
              "1  6.816049  0.000000     0.0  ...    7.323865    9.740931    6.256586   \n",
              "2  6.972130  0.452595     0.0  ...    8.127123   10.908640    5.401607   \n",
              "3  7.843375  0.434882     0.0  ...    8.792959   10.141520    8.942805   \n",
              "4  6.566967  0.360982     0.0  ...    8.891425   10.373790    7.181162   \n",
              "\n",
              "   gene_20525  gene_20526  gene_20527  gene_20528  gene_20529  gene_20530  \\\n",
              "0    9.119813   12.003135    9.650743    8.921326    5.286759         0.0   \n",
              "1    8.381612   12.674552   10.517059    9.397854    2.094168         0.0   \n",
              "2    9.911597    9.045255    9.788359   10.090470    1.683023         0.0   \n",
              "3    9.601208   11.392682    9.694814    9.684365    3.292001         0.0   \n",
              "4    9.846910   11.922439    9.217749    9.461191    5.110372         0.0   \n",
              "\n",
              "   Class  \n",
              "0   PRAD  \n",
              "1   LUAD  \n",
              "2   PRAD  \n",
              "3   PRAD  \n",
              "4   BRCA  \n",
              "\n",
              "[5 rows x 20533 columns]"
            ],
            "text/html": [
              "\n",
              "  <div id=\"df-d6da0d97-b298-4384-97ad-caa14317b615\">\n",
              "    <div class=\"colab-df-container\">\n",
              "      <div>\n",
              "<style scoped>\n",
              "    .dataframe tbody tr th:only-of-type {\n",
              "        vertical-align: middle;\n",
              "    }\n",
              "\n",
              "    .dataframe tbody tr th {\n",
              "        vertical-align: top;\n",
              "    }\n",
              "\n",
              "    .dataframe thead th {\n",
              "        text-align: right;\n",
              "    }\n",
              "</style>\n",
              "<table border=\"1\" class=\"dataframe\">\n",
              "  <thead>\n",
              "    <tr style=\"text-align: right;\">\n",
              "      <th></th>\n",
              "      <th>Unnamed: 0</th>\n",
              "      <th>gene_0</th>\n",
              "      <th>gene_1</th>\n",
              "      <th>gene_2</th>\n",
              "      <th>gene_3</th>\n",
              "      <th>gene_4</th>\n",
              "      <th>gene_5</th>\n",
              "      <th>gene_6</th>\n",
              "      <th>gene_7</th>\n",
              "      <th>gene_8</th>\n",
              "      <th>...</th>\n",
              "      <th>gene_20522</th>\n",
              "      <th>gene_20523</th>\n",
              "      <th>gene_20524</th>\n",
              "      <th>gene_20525</th>\n",
              "      <th>gene_20526</th>\n",
              "      <th>gene_20527</th>\n",
              "      <th>gene_20528</th>\n",
              "      <th>gene_20529</th>\n",
              "      <th>gene_20530</th>\n",
              "      <th>Class</th>\n",
              "    </tr>\n",
              "  </thead>\n",
              "  <tbody>\n",
              "    <tr>\n",
              "      <th>0</th>\n",
              "      <td>sample_0</td>\n",
              "      <td>0.0</td>\n",
              "      <td>2.017209</td>\n",
              "      <td>3.265527</td>\n",
              "      <td>5.478487</td>\n",
              "      <td>10.431999</td>\n",
              "      <td>0.0</td>\n",
              "      <td>7.175175</td>\n",
              "      <td>0.591871</td>\n",
              "      <td>0.0</td>\n",
              "      <td>...</td>\n",
              "      <td>8.210257</td>\n",
              "      <td>9.723516</td>\n",
              "      <td>7.220030</td>\n",
              "      <td>9.119813</td>\n",
              "      <td>12.003135</td>\n",
              "      <td>9.650743</td>\n",
              "      <td>8.921326</td>\n",
              "      <td>5.286759</td>\n",
              "      <td>0.0</td>\n",
              "      <td>PRAD</td>\n",
              "    </tr>\n",
              "    <tr>\n",
              "      <th>1</th>\n",
              "      <td>sample_1</td>\n",
              "      <td>0.0</td>\n",
              "      <td>0.592732</td>\n",
              "      <td>1.588421</td>\n",
              "      <td>7.586157</td>\n",
              "      <td>9.623011</td>\n",
              "      <td>0.0</td>\n",
              "      <td>6.816049</td>\n",
              "      <td>0.000000</td>\n",
              "      <td>0.0</td>\n",
              "      <td>...</td>\n",
              "      <td>7.323865</td>\n",
              "      <td>9.740931</td>\n",
              "      <td>6.256586</td>\n",
              "      <td>8.381612</td>\n",
              "      <td>12.674552</td>\n",
              "      <td>10.517059</td>\n",
              "      <td>9.397854</td>\n",
              "      <td>2.094168</td>\n",
              "      <td>0.0</td>\n",
              "      <td>LUAD</td>\n",
              "    </tr>\n",
              "    <tr>\n",
              "      <th>2</th>\n",
              "      <td>sample_2</td>\n",
              "      <td>0.0</td>\n",
              "      <td>3.511759</td>\n",
              "      <td>4.327199</td>\n",
              "      <td>6.881787</td>\n",
              "      <td>9.870730</td>\n",
              "      <td>0.0</td>\n",
              "      <td>6.972130</td>\n",
              "      <td>0.452595</td>\n",
              "      <td>0.0</td>\n",
              "      <td>...</td>\n",
              "      <td>8.127123</td>\n",
              "      <td>10.908640</td>\n",
              "      <td>5.401607</td>\n",
              "      <td>9.911597</td>\n",
              "      <td>9.045255</td>\n",
              "      <td>9.788359</td>\n",
              "      <td>10.090470</td>\n",
              "      <td>1.683023</td>\n",
              "      <td>0.0</td>\n",
              "      <td>PRAD</td>\n",
              "    </tr>\n",
              "    <tr>\n",
              "      <th>3</th>\n",
              "      <td>sample_3</td>\n",
              "      <td>0.0</td>\n",
              "      <td>3.663618</td>\n",
              "      <td>4.507649</td>\n",
              "      <td>6.659068</td>\n",
              "      <td>10.196184</td>\n",
              "      <td>0.0</td>\n",
              "      <td>7.843375</td>\n",
              "      <td>0.434882</td>\n",
              "      <td>0.0</td>\n",
              "      <td>...</td>\n",
              "      <td>8.792959</td>\n",
              "      <td>10.141520</td>\n",
              "      <td>8.942805</td>\n",
              "      <td>9.601208</td>\n",
              "      <td>11.392682</td>\n",
              "      <td>9.694814</td>\n",
              "      <td>9.684365</td>\n",
              "      <td>3.292001</td>\n",
              "      <td>0.0</td>\n",
              "      <td>PRAD</td>\n",
              "    </tr>\n",
              "    <tr>\n",
              "      <th>4</th>\n",
              "      <td>sample_4</td>\n",
              "      <td>0.0</td>\n",
              "      <td>2.655741</td>\n",
              "      <td>2.821547</td>\n",
              "      <td>6.539454</td>\n",
              "      <td>9.738265</td>\n",
              "      <td>0.0</td>\n",
              "      <td>6.566967</td>\n",
              "      <td>0.360982</td>\n",
              "      <td>0.0</td>\n",
              "      <td>...</td>\n",
              "      <td>8.891425</td>\n",
              "      <td>10.373790</td>\n",
              "      <td>7.181162</td>\n",
              "      <td>9.846910</td>\n",
              "      <td>11.922439</td>\n",
              "      <td>9.217749</td>\n",
              "      <td>9.461191</td>\n",
              "      <td>5.110372</td>\n",
              "      <td>0.0</td>\n",
              "      <td>BRCA</td>\n",
              "    </tr>\n",
              "  </tbody>\n",
              "</table>\n",
              "<p>5 rows × 20533 columns</p>\n",
              "</div>\n",
              "      <button class=\"colab-df-convert\" onclick=\"convertToInteractive('df-d6da0d97-b298-4384-97ad-caa14317b615')\"\n",
              "              title=\"Convert this dataframe to an interactive table.\"\n",
              "              style=\"display:none;\">\n",
              "        \n",
              "  <svg xmlns=\"http://www.w3.org/2000/svg\" height=\"24px\"viewBox=\"0 0 24 24\"\n",
              "       width=\"24px\">\n",
              "    <path d=\"M0 0h24v24H0V0z\" fill=\"none\"/>\n",
              "    <path d=\"M18.56 5.44l.94 2.06.94-2.06 2.06-.94-2.06-.94-.94-2.06-.94 2.06-2.06.94zm-11 1L8.5 8.5l.94-2.06 2.06-.94-2.06-.94L8.5 2.5l-.94 2.06-2.06.94zm10 10l.94 2.06.94-2.06 2.06-.94-2.06-.94-.94-2.06-.94 2.06-2.06.94z\"/><path d=\"M17.41 7.96l-1.37-1.37c-.4-.4-.92-.59-1.43-.59-.52 0-1.04.2-1.43.59L10.3 9.45l-7.72 7.72c-.78.78-.78 2.05 0 2.83L4 21.41c.39.39.9.59 1.41.59.51 0 1.02-.2 1.41-.59l7.78-7.78 2.81-2.81c.8-.78.8-2.07 0-2.86zM5.41 20L4 18.59l7.72-7.72 1.47 1.35L5.41 20z\"/>\n",
              "  </svg>\n",
              "      </button>\n",
              "      \n",
              "  <style>\n",
              "    .colab-df-container {\n",
              "      display:flex;\n",
              "      flex-wrap:wrap;\n",
              "      gap: 12px;\n",
              "    }\n",
              "\n",
              "    .colab-df-convert {\n",
              "      background-color: #E8F0FE;\n",
              "      border: none;\n",
              "      border-radius: 50%;\n",
              "      cursor: pointer;\n",
              "      display: none;\n",
              "      fill: #1967D2;\n",
              "      height: 32px;\n",
              "      padding: 0 0 0 0;\n",
              "      width: 32px;\n",
              "    }\n",
              "\n",
              "    .colab-df-convert:hover {\n",
              "      background-color: #E2EBFA;\n",
              "      box-shadow: 0px 1px 2px rgba(60, 64, 67, 0.3), 0px 1px 3px 1px rgba(60, 64, 67, 0.15);\n",
              "      fill: #174EA6;\n",
              "    }\n",
              "\n",
              "    [theme=dark] .colab-df-convert {\n",
              "      background-color: #3B4455;\n",
              "      fill: #D2E3FC;\n",
              "    }\n",
              "\n",
              "    [theme=dark] .colab-df-convert:hover {\n",
              "      background-color: #434B5C;\n",
              "      box-shadow: 0px 1px 3px 1px rgba(0, 0, 0, 0.15);\n",
              "      filter: drop-shadow(0px 1px 2px rgba(0, 0, 0, 0.3));\n",
              "      fill: #FFFFFF;\n",
              "    }\n",
              "  </style>\n",
              "\n",
              "      <script>\n",
              "        const buttonEl =\n",
              "          document.querySelector('#df-d6da0d97-b298-4384-97ad-caa14317b615 button.colab-df-convert');\n",
              "        buttonEl.style.display =\n",
              "          google.colab.kernel.accessAllowed ? 'block' : 'none';\n",
              "\n",
              "        async function convertToInteractive(key) {\n",
              "          const element = document.querySelector('#df-d6da0d97-b298-4384-97ad-caa14317b615');\n",
              "          const dataTable =\n",
              "            await google.colab.kernel.invokeFunction('convertToInteractive',\n",
              "                                                     [key], {});\n",
              "          if (!dataTable) return;\n",
              "\n",
              "          const docLinkHtml = 'Like what you see? Visit the ' +\n",
              "            '<a target=\"_blank\" href=https://colab.research.google.com/notebooks/data_table.ipynb>data table notebook</a>'\n",
              "            + ' to learn more about interactive tables.';\n",
              "          element.innerHTML = '';\n",
              "          dataTable['output_type'] = 'display_data';\n",
              "          await google.colab.output.renderOutput(dataTable, element);\n",
              "          const docLink = document.createElement('div');\n",
              "          docLink.innerHTML = docLinkHtml;\n",
              "          element.appendChild(docLink);\n",
              "        }\n",
              "      </script>\n",
              "    </div>\n",
              "  </div>\n",
              "  "
            ]
          },
          "metadata": {},
          "execution_count": 3
        }
      ]
    },
    {
      "cell_type": "code",
      "source": [
        "df.isnull().sum()"
      ],
      "metadata": {
        "colab": {
          "base_uri": "https://localhost:8080/"
        },
        "id": "x8it4nwulHRZ",
        "outputId": "7620d80e-8ec5-4f8b-80fb-0a46018e485e"
      },
      "execution_count": null,
      "outputs": [
        {
          "output_type": "execute_result",
          "data": {
            "text/plain": [
              "Unnamed: 0    0\n",
              "gene_0        0\n",
              "gene_1        0\n",
              "gene_2        0\n",
              "gene_3        0\n",
              "             ..\n",
              "gene_20527    0\n",
              "gene_20528    0\n",
              "gene_20529    0\n",
              "gene_20530    0\n",
              "Class         0\n",
              "Length: 20533, dtype: int64"
            ]
          },
          "metadata": {},
          "execution_count": 4
        }
      ]
    },
    {
      "cell_type": "code",
      "source": [
        "df.duplicated().sum()"
      ],
      "metadata": {
        "colab": {
          "base_uri": "https://localhost:8080/"
        },
        "id": "lADg5ZsxlPhc",
        "outputId": "2c1f950c-83d0-4879-e73a-9d9514d811bb"
      },
      "execution_count": null,
      "outputs": [
        {
          "output_type": "execute_result",
          "data": {
            "text/plain": [
              "0"
            ]
          },
          "metadata": {},
          "execution_count": 5
        }
      ]
    },
    {
      "cell_type": "code",
      "source": [
        "df_heatmap = pd.pivot_table(df, index=[\"Class\"])\n",
        "df_heatmap"
      ],
      "metadata": {
        "colab": {
          "base_uri": "https://localhost:8080/",
          "height": 331
        },
        "id": "QW_Lmf9oS46O",
        "outputId": "740e0bf2-29bf-4b2b-9357-a2b8027a7088"
      },
      "execution_count": null,
      "outputs": [
        {
          "output_type": "execute_result",
          "data": {
            "text/plain": [
              "         gene_0    gene_1   gene_10   gene_100  gene_1000  gene_10000  \\\n",
              "Class                                                                   \n",
              "BRCA   0.011362  2.839739  0.544066  10.681488  10.303568    3.258028   \n",
              "COAD   0.022212  3.438381  0.357278  11.015745   9.951124    3.462039   \n",
              "KIRC   0.046544  2.398129  1.166824  10.238999  11.148094    1.651798   \n",
              "LUAD   0.041088  3.358260  0.607541  10.517670  10.503698    3.754181   \n",
              "PRAD   0.026544  3.441041  0.765608  10.282936   9.967433    1.949878   \n",
              "\n",
              "       gene_10001  gene_10002  gene_10003  gene_10004  ...  gene_9990  \\\n",
              "Class                                                  ...              \n",
              "BRCA     7.339461    7.900497    7.489146    7.508378  ...   1.969278   \n",
              "COAD     5.526673    7.487396    3.783493    6.959238  ...   2.216178   \n",
              "KIRC     6.895752    7.686932    7.269611    7.636246  ...   1.824964   \n",
              "LUAD     7.281878    7.041924    6.145042    7.148682  ...   2.609490   \n",
              "PRAD     7.946141    8.529695    5.696368    7.396572  ...   1.623491   \n",
              "\n",
              "       gene_9991  gene_9992  gene_9993  gene_9994  gene_9995  gene_9996  \\\n",
              "Class                                                                     \n",
              "BRCA    5.142237   1.736160   2.312551   1.696127   2.493789   0.046527   \n",
              "COAD    0.354828   1.833606   1.619692   3.839205   2.396207   0.090327   \n",
              "KIRC    0.596508   2.393303   1.872888   1.289448   3.139623   0.130416   \n",
              "LUAD    2.801700   2.738326   1.869805   2.217144   2.459608   0.042070   \n",
              "PRAD    4.594215   1.684084   2.588050   1.703772   3.568490   0.572893   \n",
              "\n",
              "       gene_9997  gene_9998  gene_9999  \n",
              "Class                                   \n",
              "BRCA    2.099709   0.151063   6.954733  \n",
              "COAD    2.298246   0.065007   6.618466  \n",
              "KIRC    2.387948   0.148641   6.429343  \n",
              "LUAD    2.281828   0.056608   6.721517  \n",
              "PRAD    3.621548   0.094953   7.104225  \n",
              "\n",
              "[5 rows x 20531 columns]"
            ],
            "text/html": [
              "\n",
              "  <div id=\"df-5bed3672-a7be-40d2-8154-d90f5810bb49\">\n",
              "    <div class=\"colab-df-container\">\n",
              "      <div>\n",
              "<style scoped>\n",
              "    .dataframe tbody tr th:only-of-type {\n",
              "        vertical-align: middle;\n",
              "    }\n",
              "\n",
              "    .dataframe tbody tr th {\n",
              "        vertical-align: top;\n",
              "    }\n",
              "\n",
              "    .dataframe thead th {\n",
              "        text-align: right;\n",
              "    }\n",
              "</style>\n",
              "<table border=\"1\" class=\"dataframe\">\n",
              "  <thead>\n",
              "    <tr style=\"text-align: right;\">\n",
              "      <th></th>\n",
              "      <th>gene_0</th>\n",
              "      <th>gene_1</th>\n",
              "      <th>gene_10</th>\n",
              "      <th>gene_100</th>\n",
              "      <th>gene_1000</th>\n",
              "      <th>gene_10000</th>\n",
              "      <th>gene_10001</th>\n",
              "      <th>gene_10002</th>\n",
              "      <th>gene_10003</th>\n",
              "      <th>gene_10004</th>\n",
              "      <th>...</th>\n",
              "      <th>gene_9990</th>\n",
              "      <th>gene_9991</th>\n",
              "      <th>gene_9992</th>\n",
              "      <th>gene_9993</th>\n",
              "      <th>gene_9994</th>\n",
              "      <th>gene_9995</th>\n",
              "      <th>gene_9996</th>\n",
              "      <th>gene_9997</th>\n",
              "      <th>gene_9998</th>\n",
              "      <th>gene_9999</th>\n",
              "    </tr>\n",
              "    <tr>\n",
              "      <th>Class</th>\n",
              "      <th></th>\n",
              "      <th></th>\n",
              "      <th></th>\n",
              "      <th></th>\n",
              "      <th></th>\n",
              "      <th></th>\n",
              "      <th></th>\n",
              "      <th></th>\n",
              "      <th></th>\n",
              "      <th></th>\n",
              "      <th></th>\n",
              "      <th></th>\n",
              "      <th></th>\n",
              "      <th></th>\n",
              "      <th></th>\n",
              "      <th></th>\n",
              "      <th></th>\n",
              "      <th></th>\n",
              "      <th></th>\n",
              "      <th></th>\n",
              "      <th></th>\n",
              "    </tr>\n",
              "  </thead>\n",
              "  <tbody>\n",
              "    <tr>\n",
              "      <th>BRCA</th>\n",
              "      <td>0.011362</td>\n",
              "      <td>2.839739</td>\n",
              "      <td>0.544066</td>\n",
              "      <td>10.681488</td>\n",
              "      <td>10.303568</td>\n",
              "      <td>3.258028</td>\n",
              "      <td>7.339461</td>\n",
              "      <td>7.900497</td>\n",
              "      <td>7.489146</td>\n",
              "      <td>7.508378</td>\n",
              "      <td>...</td>\n",
              "      <td>1.969278</td>\n",
              "      <td>5.142237</td>\n",
              "      <td>1.736160</td>\n",
              "      <td>2.312551</td>\n",
              "      <td>1.696127</td>\n",
              "      <td>2.493789</td>\n",
              "      <td>0.046527</td>\n",
              "      <td>2.099709</td>\n",
              "      <td>0.151063</td>\n",
              "      <td>6.954733</td>\n",
              "    </tr>\n",
              "    <tr>\n",
              "      <th>COAD</th>\n",
              "      <td>0.022212</td>\n",
              "      <td>3.438381</td>\n",
              "      <td>0.357278</td>\n",
              "      <td>11.015745</td>\n",
              "      <td>9.951124</td>\n",
              "      <td>3.462039</td>\n",
              "      <td>5.526673</td>\n",
              "      <td>7.487396</td>\n",
              "      <td>3.783493</td>\n",
              "      <td>6.959238</td>\n",
              "      <td>...</td>\n",
              "      <td>2.216178</td>\n",
              "      <td>0.354828</td>\n",
              "      <td>1.833606</td>\n",
              "      <td>1.619692</td>\n",
              "      <td>3.839205</td>\n",
              "      <td>2.396207</td>\n",
              "      <td>0.090327</td>\n",
              "      <td>2.298246</td>\n",
              "      <td>0.065007</td>\n",
              "      <td>6.618466</td>\n",
              "    </tr>\n",
              "    <tr>\n",
              "      <th>KIRC</th>\n",
              "      <td>0.046544</td>\n",
              "      <td>2.398129</td>\n",
              "      <td>1.166824</td>\n",
              "      <td>10.238999</td>\n",
              "      <td>11.148094</td>\n",
              "      <td>1.651798</td>\n",
              "      <td>6.895752</td>\n",
              "      <td>7.686932</td>\n",
              "      <td>7.269611</td>\n",
              "      <td>7.636246</td>\n",
              "      <td>...</td>\n",
              "      <td>1.824964</td>\n",
              "      <td>0.596508</td>\n",
              "      <td>2.393303</td>\n",
              "      <td>1.872888</td>\n",
              "      <td>1.289448</td>\n",
              "      <td>3.139623</td>\n",
              "      <td>0.130416</td>\n",
              "      <td>2.387948</td>\n",
              "      <td>0.148641</td>\n",
              "      <td>6.429343</td>\n",
              "    </tr>\n",
              "    <tr>\n",
              "      <th>LUAD</th>\n",
              "      <td>0.041088</td>\n",
              "      <td>3.358260</td>\n",
              "      <td>0.607541</td>\n",
              "      <td>10.517670</td>\n",
              "      <td>10.503698</td>\n",
              "      <td>3.754181</td>\n",
              "      <td>7.281878</td>\n",
              "      <td>7.041924</td>\n",
              "      <td>6.145042</td>\n",
              "      <td>7.148682</td>\n",
              "      <td>...</td>\n",
              "      <td>2.609490</td>\n",
              "      <td>2.801700</td>\n",
              "      <td>2.738326</td>\n",
              "      <td>1.869805</td>\n",
              "      <td>2.217144</td>\n",
              "      <td>2.459608</td>\n",
              "      <td>0.042070</td>\n",
              "      <td>2.281828</td>\n",
              "      <td>0.056608</td>\n",
              "      <td>6.721517</td>\n",
              "    </tr>\n",
              "    <tr>\n",
              "      <th>PRAD</th>\n",
              "      <td>0.026544</td>\n",
              "      <td>3.441041</td>\n",
              "      <td>0.765608</td>\n",
              "      <td>10.282936</td>\n",
              "      <td>9.967433</td>\n",
              "      <td>1.949878</td>\n",
              "      <td>7.946141</td>\n",
              "      <td>8.529695</td>\n",
              "      <td>5.696368</td>\n",
              "      <td>7.396572</td>\n",
              "      <td>...</td>\n",
              "      <td>1.623491</td>\n",
              "      <td>4.594215</td>\n",
              "      <td>1.684084</td>\n",
              "      <td>2.588050</td>\n",
              "      <td>1.703772</td>\n",
              "      <td>3.568490</td>\n",
              "      <td>0.572893</td>\n",
              "      <td>3.621548</td>\n",
              "      <td>0.094953</td>\n",
              "      <td>7.104225</td>\n",
              "    </tr>\n",
              "  </tbody>\n",
              "</table>\n",
              "<p>5 rows × 20531 columns</p>\n",
              "</div>\n",
              "      <button class=\"colab-df-convert\" onclick=\"convertToInteractive('df-5bed3672-a7be-40d2-8154-d90f5810bb49')\"\n",
              "              title=\"Convert this dataframe to an interactive table.\"\n",
              "              style=\"display:none;\">\n",
              "        \n",
              "  <svg xmlns=\"http://www.w3.org/2000/svg\" height=\"24px\"viewBox=\"0 0 24 24\"\n",
              "       width=\"24px\">\n",
              "    <path d=\"M0 0h24v24H0V0z\" fill=\"none\"/>\n",
              "    <path d=\"M18.56 5.44l.94 2.06.94-2.06 2.06-.94-2.06-.94-.94-2.06-.94 2.06-2.06.94zm-11 1L8.5 8.5l.94-2.06 2.06-.94-2.06-.94L8.5 2.5l-.94 2.06-2.06.94zm10 10l.94 2.06.94-2.06 2.06-.94-2.06-.94-.94-2.06-.94 2.06-2.06.94z\"/><path d=\"M17.41 7.96l-1.37-1.37c-.4-.4-.92-.59-1.43-.59-.52 0-1.04.2-1.43.59L10.3 9.45l-7.72 7.72c-.78.78-.78 2.05 0 2.83L4 21.41c.39.39.9.59 1.41.59.51 0 1.02-.2 1.41-.59l7.78-7.78 2.81-2.81c.8-.78.8-2.07 0-2.86zM5.41 20L4 18.59l7.72-7.72 1.47 1.35L5.41 20z\"/>\n",
              "  </svg>\n",
              "      </button>\n",
              "      \n",
              "  <style>\n",
              "    .colab-df-container {\n",
              "      display:flex;\n",
              "      flex-wrap:wrap;\n",
              "      gap: 12px;\n",
              "    }\n",
              "\n",
              "    .colab-df-convert {\n",
              "      background-color: #E8F0FE;\n",
              "      border: none;\n",
              "      border-radius: 50%;\n",
              "      cursor: pointer;\n",
              "      display: none;\n",
              "      fill: #1967D2;\n",
              "      height: 32px;\n",
              "      padding: 0 0 0 0;\n",
              "      width: 32px;\n",
              "    }\n",
              "\n",
              "    .colab-df-convert:hover {\n",
              "      background-color: #E2EBFA;\n",
              "      box-shadow: 0px 1px 2px rgba(60, 64, 67, 0.3), 0px 1px 3px 1px rgba(60, 64, 67, 0.15);\n",
              "      fill: #174EA6;\n",
              "    }\n",
              "\n",
              "    [theme=dark] .colab-df-convert {\n",
              "      background-color: #3B4455;\n",
              "      fill: #D2E3FC;\n",
              "    }\n",
              "\n",
              "    [theme=dark] .colab-df-convert:hover {\n",
              "      background-color: #434B5C;\n",
              "      box-shadow: 0px 1px 3px 1px rgba(0, 0, 0, 0.15);\n",
              "      filter: drop-shadow(0px 1px 2px rgba(0, 0, 0, 0.3));\n",
              "      fill: #FFFFFF;\n",
              "    }\n",
              "  </style>\n",
              "\n",
              "      <script>\n",
              "        const buttonEl =\n",
              "          document.querySelector('#df-5bed3672-a7be-40d2-8154-d90f5810bb49 button.colab-df-convert');\n",
              "        buttonEl.style.display =\n",
              "          google.colab.kernel.accessAllowed ? 'block' : 'none';\n",
              "\n",
              "        async function convertToInteractive(key) {\n",
              "          const element = document.querySelector('#df-5bed3672-a7be-40d2-8154-d90f5810bb49');\n",
              "          const dataTable =\n",
              "            await google.colab.kernel.invokeFunction('convertToInteractive',\n",
              "                                                     [key], {});\n",
              "          if (!dataTable) return;\n",
              "\n",
              "          const docLinkHtml = 'Like what you see? Visit the ' +\n",
              "            '<a target=\"_blank\" href=https://colab.research.google.com/notebooks/data_table.ipynb>data table notebook</a>'\n",
              "            + ' to learn more about interactive tables.';\n",
              "          element.innerHTML = '';\n",
              "          dataTable['output_type'] = 'display_data';\n",
              "          await google.colab.output.renderOutput(dataTable, element);\n",
              "          const docLink = document.createElement('div');\n",
              "          docLink.innerHTML = docLinkHtml;\n",
              "          element.appendChild(docLink);\n",
              "        }\n",
              "      </script>\n",
              "    </div>\n",
              "  </div>\n",
              "  "
            ]
          },
          "metadata": {},
          "execution_count": 6
        }
      ]
    },
    {
      "cell_type": "code",
      "source": [
        "sns.clustermap(df_heatmap, figsize=(14,10))"
      ],
      "metadata": {
        "colab": {
          "base_uri": "https://localhost:8080/",
          "height": 803
        },
        "id": "hWnxmNE8UziA",
        "outputId": "c8d9d551-dd29-4246-ea3b-f2706d0f5509"
      },
      "execution_count": null,
      "outputs": [
        {
          "output_type": "stream",
          "name": "stderr",
          "text": [
            "/usr/local/lib/python3.8/dist-packages/seaborn/matrix.py:654: UserWarning: Clustering large matrix with scipy. Installing `fastcluster` may give better performance.\n",
            "  warnings.warn(msg)\n"
          ]
        },
        {
          "output_type": "execute_result",
          "data": {
            "text/plain": [
              "<seaborn.matrix.ClusterGrid at 0x7f2eeceeea90>"
            ]
          },
          "metadata": {},
          "execution_count": 7
        },
        {
          "output_type": "display_data",
          "data": {
            "text/plain": [
              "<Figure size 1008x720 with 4 Axes>"
            ],
            "image/png": "[encoded data removed]"
          },
          "metadata": {
            "needs_background": "light"
          }
        }
      ]
    },
    {
      "cell_type": "markdown",
      "source": [
        "Sort the multi-class categorical variable and create oridinal categorical type called cancer types.\n"
      ],
      "metadata": {
        "id": "I6argvpYx6Zp"
      }
    },
    {
      "cell_type": "code",
      "source": [
        "df['Class'].value_counts().sort_values(ascending=False)"
      ],
      "metadata": {
        "colab": {
          "base_uri": "https://localhost:8080/"
        },
        "id": "Axq6wRB2wP6u",
        "outputId": "a97d68d5-a4bd-4507-abf7-e7d6a87ee9e9"
      },
      "execution_count": null,
      "outputs": [
        {
          "output_type": "execute_result",
          "data": {
            "text/plain": [
              "BRCA    300\n",
              "KIRC    146\n",
              "LUAD    141\n",
              "PRAD    136\n",
              "COAD     78\n",
              "Name: Class, dtype: int64"
            ]
          },
          "metadata": {},
          "execution_count": 8
        }
      ]
    },
    {
      "cell_type": "code",
      "source": [
        "df['cancer_types'] = df['Class'].map({'BRCA': 1, 'KIRC': 2,'LUAD': 3, 'PRAD': 4, 'COAD': 5})\n"
      ],
      "metadata": {
        "id": "jy_4uc1-DDUQ"
      },
      "execution_count": null,
      "outputs": []
    },
    {
      "cell_type": "markdown",
      "source": [
        "Performing dimensionality reduction using various techniques:\n",
        "\n",
        "**Principle Component Analysis (PCA)**, **Linear Discriminant Analysis (LDA)**, and **t-SNE**."
      ],
      "metadata": {
        "id": "jQlS09y_hRzO"
      }
    },
    {
      "cell_type": "code",
      "source": [
        "df_pca = df.drop(columns=['Unnamed: 0','Class'], axis=1)"
      ],
      "metadata": {
        "id": "P-Yzk6nmmajA"
      },
      "execution_count": null,
      "outputs": []
    },
    {
      "cell_type": "code",
      "source": [
        "df_pca.shape"
      ],
      "metadata": {
        "colab": {
          "base_uri": "https://localhost:8080/"
        },
        "id": "GxYSg83Fm-m-",
        "outputId": "ec2bc02f-2194-4560-a205-f8fdc45401cd"
      },
      "execution_count": null,
      "outputs": [
        {
          "output_type": "execute_result",
          "data": {
            "text/plain": [
              "(801, 20532)"
            ]
          },
          "metadata": {},
          "execution_count": 11
        }
      ]
    },
    {
      "cell_type": "code",
      "source": [
        "x_pca = df_pca.values"
      ],
      "metadata": {
        "id": "in2wi9yKnBu1"
      },
      "execution_count": null,
      "outputs": []
    },
    {
      "cell_type": "code",
      "source": [
        "from sklearn.preprocessing import StandardScaler\n",
        "scaler = StandardScaler()\n",
        "X_pca_scaled = scaler.fit_transform(x_pca)"
      ],
      "metadata": {
        "id": "cbiEOdrTnnm6"
      },
      "execution_count": null,
      "outputs": []
    },
    {
      "cell_type": "markdown",
      "source": [
        "Perform **PCA** with n_components=2 and visualize on 2D for all 5 unique cancer types.\n"
      ],
      "metadata": {
        "id": "hBO63deqvxDa"
      }
    },
    {
      "cell_type": "code",
      "source": [
        "from sklearn.decomposition import PCA\n",
        "pca_model = PCA(n_components=2)\n",
        "pca_data = pca_model.fit_transform(X_pca_scaled)\n",
        "pca_data.shape"
      ],
      "metadata": {
        "colab": {
          "base_uri": "https://localhost:8080/"
        },
        "id": "Q1dXlBVIoL3I",
        "outputId": "abaab007-6b4c-4f0f-f129-f3ac26ce2274"
      },
      "execution_count": null,
      "outputs": [
        {
          "output_type": "execute_result",
          "data": {
            "text/plain": [
              "(801, 2)"
            ]
          },
          "metadata": {},
          "execution_count": 14
        }
      ]
    },
    {
      "cell_type": "code",
      "source": [
        "pca_d = pd.DataFrame(pca_data)\n",
        "pca_d.columns = ['pca_1','pca_2']\n",
        "pca_d.loc[:,'cancer_types']= df['cancer_types']"
      ],
      "metadata": {
        "id": "1THsryGfrtTD"
      },
      "execution_count": null,
      "outputs": []
    },
    {
      "cell_type": "code",
      "source": [
        "sns.scatterplot(x='pca_1',y='pca_2', hue = 'cancer_types',data=pca_d)\n",
        "plt.show()"
      ],
      "metadata": {
        "colab": {
          "base_uri": "https://localhost:8080/",
          "height": 281
        },
        "id": "hUN9aZrrEgy1",
        "outputId": "a6357bb4-da89-4394-eb59-aa7c8ced002f"
      },
      "execution_count": null,
      "outputs": [
        {
          "output_type": "display_data",
          "data": {
            "text/plain": [
              "<Figure size 432x288 with 1 Axes>"
            ],
            "image/png": "[encoded data removed]"
          },
          "metadata": {
            "needs_background": "light"
          }
        }
      ]
    },
    {
      "cell_type": "code",
      "source": [
        "pca_95= PCA(.95)\n",
        "X_pca_95 = pca_95.fit_transform(x_pca)\n",
        "X_pca_95.shape\n",
        "X_pca_95"
      ],
      "metadata": {
        "colab": {
          "base_uri": "https://localhost:8080/"
        },
        "id": "BaO6Nw-eEu4P",
        "outputId": "7c01f697-6596-46d0-cc51-bcb09c51a2d0"
      },
      "execution_count": null,
      "outputs": [
        {
          "output_type": "execute_result",
          "data": {
            "text/plain": [
              "array([[-62.75955465, -94.03525388,  89.564534  , ...,  -2.63995579,\n",
              "          0.48630353,   2.78977671],\n",
              "       [ -2.43384638,  90.58661804,  -1.08810818, ...,  -1.31850847,\n",
              "          4.14460199,   2.22598917],\n",
              "       [-71.27038784,  -8.03764227,  66.11653137, ...,  -2.98301258,\n",
              "          1.86283101,   0.35828126],\n",
              "       ...,\n",
              "       [ 10.4819589 ,  21.59196965,  41.39468502, ...,  -0.82705367,\n",
              "          0.55602616,   2.11367957],\n",
              "       [-55.06751817, -92.36138449,  80.10033856, ...,   1.86290113,\n",
              "          5.778344  ,   0.74338421],\n",
              "       [-49.1058766 , -50.97904734,  40.55233916, ...,   2.86223222,\n",
              "          2.03662027,   0.535412  ]])"
            ]
          },
          "metadata": {},
          "execution_count": 17
        }
      ]
    },
    {
      "cell_type": "code",
      "source": [
        "df_pca_95 = pd.DataFrame(X_pca_95)\n",
        "df_pca_95.loc[:,'cancer_types']= df['cancer_types']\n",
        "sns.scatterplot(x=0,y=1,hue = 'cancer_types', data=df_pca_95)\n",
        "plt.show()"
      ],
      "metadata": {
        "colab": {
          "base_uri": "https://localhost:8080/",
          "height": 279
        },
        "id": "nyTYJr9PI1-S",
        "outputId": "d511d72f-ae03-4482-8411-287bb5514f9c"
      },
      "execution_count": null,
      "outputs": [
        {
          "output_type": "display_data",
          "data": {
            "text/plain": [
              "<Figure size 432x288 with 1 Axes>"
            ],
            "image/png": "[encoded data removed]"
          },
          "metadata": {
            "needs_background": "light"
          }
        }
      ]
    },
    {
      "cell_type": "markdown",
      "source": [
        "Perform **LDA** with Class as target, LDA is supervised method as opposed to PCA (unsupervised), n_components=2 and visualize on 2D for all 5 unique cancer types.\n"
      ],
      "metadata": {
        "id": "3spehqLn8gBp"
      }
    },
    {
      "cell_type": "code",
      "source": [
        "df_lda = df.drop(['Class','Unnamed: 0','cancer_types'], axis=1)\n",
        "x_lda = df_lda\n",
        "y_lda = df['Class']\n"
      ],
      "metadata": {
        "id": "wu1CGoXB8oLg"
      },
      "execution_count": null,
      "outputs": []
    },
    {
      "cell_type": "code",
      "source": [
        "from sklearn.discriminant_analysis import LinearDiscriminantAnalysis as LDA\n",
        "lda_model = LDA(n_components=2)\n",
        "lda_data = lda_model.fit(x_lda,y_lda).transform(x_lda)\n",
        "lda_data.shape"
      ],
      "metadata": {
        "colab": {
          "base_uri": "https://localhost:8080/"
        },
        "id": "MgAnK2792qEQ",
        "outputId": "6ad259c7-1da8-4ff1-c109-e56336feca71"
      },
      "execution_count": null,
      "outputs": [
        {
          "output_type": "execute_result",
          "data": {
            "text/plain": [
              "(801, 2)"
            ]
          },
          "metadata": {},
          "execution_count": 20
        }
      ]
    },
    {
      "cell_type": "code",
      "source": [
        "lda_d = pd.DataFrame(lda_data)\n",
        "lda_d.loc[:,'cancer_types']= df['cancer_types']\n",
        "sns.scatterplot(x=0, y=1, hue='cancer_types', data=lda_d)\n",
        "plt.show()"
      ],
      "metadata": {
        "colab": {
          "base_uri": "https://localhost:8080/",
          "height": 279
        },
        "id": "VqGeNCds4MlB",
        "outputId": "a6af8b5d-51f7-491e-f281-101269226630"
      },
      "execution_count": null,
      "outputs": [
        {
          "output_type": "display_data",
          "data": {
            "text/plain": [
              "<Figure size 432x288 with 1 Axes>"
            ],
            "image/png": "[encoded data removed]"
          },
          "metadata": {
            "needs_background": "light"
          }
        }
      ]
    },
    {
      "cell_type": "code",
      "source": [
        "df_tSNE = df.drop(['Class','Unnamed: 0','cancer_types'], axis=1) "
      ],
      "metadata": {
        "id": "Eh3Of7lI4qkY"
      },
      "execution_count": null,
      "outputs": []
    },
    {
      "cell_type": "code",
      "source": [
        "from sklearn.manifold import TSNE\n",
        "tSNE_model = TSNE(n_components=2, learning_rate='auto',init='random')\n",
        "tSNE_data = tSNE_model.fit_transform(df_tSNE)"
      ],
      "metadata": {
        "id": "fNdZUnbh8Lq6"
      },
      "execution_count": null,
      "outputs": []
    },
    {
      "cell_type": "code",
      "source": [
        "tSNE_data.shape"
      ],
      "metadata": {
        "colab": {
          "base_uri": "https://localhost:8080/"
        },
        "id": "pvauZm6S-DsX",
        "outputId": "d42103cb-4658-4145-82ce-14a4ad1a90ec"
      },
      "execution_count": null,
      "outputs": [
        {
          "output_type": "execute_result",
          "data": {
            "text/plain": [
              "(801, 2)"
            ]
          },
          "metadata": {},
          "execution_count": 24
        }
      ]
    },
    {
      "cell_type": "code",
      "source": [
        "tSNE_d = pd.DataFrame(tSNE_data)\n",
        "tSNE_d.loc[:,\"cancer_types\"]= df['cancer_types']\n",
        "sns.scatterplot(x=0, y=1, hue='cancer_types', data=tSNE_d)\n",
        "plt.show()"
      ],
      "metadata": {
        "colab": {
          "base_uri": "https://localhost:8080/",
          "height": 279
        },
        "id": "yFrz2gZY-xBi",
        "outputId": "2b9bbfe8-3bcc-4100-97e7-c33beacd9e0e"
      },
      "execution_count": null,
      "outputs": [
        {
          "output_type": "display_data",
          "data": {
            "text/plain": [
              "<Figure size 432x288 with 1 Axes>"
            ],
            "image/png": "[encoded data removed]"
          },
          "metadata": {
            "needs_background": "light"
          }
        }
      ]
    },
    {
      "cell_type": "markdown",
      "source": [
        "2- Applying **K-means**, **hierarchical** and **mean shift clustering**, on genes and samples to identify groups of genes that behave similarly across samples and identify the distribution of samples corresponding to each cancer type."
      ],
      "metadata": {
        "id": "aAzJx9Ttbp0D"
      }
    },
    {
      "cell_type": "markdown",
      "source": [
        "Kmeans clustering with PCA "
      ],
      "metadata": {
        "id": "LCblkVqxiGSG"
      }
    },
    {
      "cell_type": "code",
      "source": [
        "from sklearn.cluster import KMeans\n",
        "clusters = KMeans(5, n_init = 5)\n",
        "clusters.fit(pca_data)\n",
        "clusters.labels_"
      ],
      "metadata": {
        "colab": {
          "base_uri": "https://localhost:8080/"
        },
        "id": "FJsChV5r-hUf",
        "outputId": "1d95827f-9cd8-45e8-d30f-d1fc09ce825b"
      },
      "execution_count": null,
      "outputs": [
        {
          "output_type": "execute_result",
          "data": {
            "text/plain": [
              "array([3, 1, 0, 0, 2, 0, 4, 1, 2, 0, 1, 4, 1, 3, 2, 2, 1, 4, 4, 0, 2, 1,\n",
              "       1, 0, 4, 1, 0, 2, 1, 2, 2, 2, 4, 3, 0, 2, 4, 1, 0, 3, 4, 0, 1, 4,\n",
              "       4, 2, 3, 0, 2, 1, 2, 0, 2, 0, 0, 0, 2, 0, 4, 1, 1, 1, 2, 1, 0, 0,\n",
              "       1, 0, 4, 0, 4, 1, 0, 1, 2, 0, 2, 3, 1, 0, 2, 0, 2, 2, 3, 0, 2, 0,\n",
              "       4, 0, 0, 0, 2, 3, 2, 0, 0, 2, 1, 1, 2, 4, 2, 4, 1, 4, 0, 0, 0, 1,\n",
              "       3, 2, 1, 0, 2, 4, 4, 4, 2, 2, 1, 4, 0, 0, 1, 0, 0, 2, 4, 0, 0, 0,\n",
              "       3, 1, 2, 4, 4, 2, 4, 0, 2, 0, 2, 4, 1, 0, 3, 2, 1, 0, 1, 1, 2, 2,\n",
              "       1, 1, 2, 0, 0, 1, 3, 1, 4, 1, 1, 1, 0, 4, 1, 2, 4, 1, 2, 0, 2, 0,\n",
              "       1, 1, 1, 4, 0, 4, 2, 1, 0, 1, 1, 1, 2, 1, 1, 4, 3, 2, 0, 2, 3, 2,\n",
              "       0, 1, 2, 4, 4, 4, 4, 2, 3, 0, 1, 1, 1, 2, 1, 0, 0, 1, 2, 2, 1, 1,\n",
              "       4, 1, 4, 4, 1, 2, 4, 0, 2, 1, 3, 2, 0, 3, 4, 1, 4, 0, 1, 4, 4, 2,\n",
              "       0, 1, 1, 0, 4, 1, 1, 0, 2, 0, 1, 1, 1, 4, 3, 1, 1, 2, 1, 0, 1, 0,\n",
              "       0, 0, 1, 2, 2, 4, 4, 2, 0, 3, 4, 0, 2, 2, 4, 2, 2, 2, 3, 0, 1, 2,\n",
              "       2, 2, 4, 4, 4, 4, 3, 2, 2, 4, 2, 2, 1, 1, 1, 2, 3, 0, 0, 2, 2, 2,\n",
              "       3, 1, 2, 2, 0, 0, 1, 0, 4, 0, 4, 4, 2, 0, 1, 2, 2, 2, 2, 4, 2, 2,\n",
              "       0, 0, 4, 2, 1, 0, 4, 2, 0, 0, 1, 2, 2, 1, 3, 1, 2, 2, 0, 1, 2, 4,\n",
              "       2, 0, 1, 1, 2, 4, 2, 2, 0, 0, 0, 0, 4, 0, 4, 1, 2, 4, 2, 0, 0, 1,\n",
              "       0, 3, 4, 0, 2, 0, 4, 4, 0, 0, 0, 2, 3, 0, 4, 3, 0, 0, 2, 2, 1, 1,\n",
              "       4, 1, 2, 4, 0, 2, 2, 0, 1, 0, 3, 2, 0, 2, 0, 0, 1, 0, 0, 2, 2, 2,\n",
              "       2, 1, 2, 1, 2, 4, 1, 2, 2, 1, 4, 0, 4, 3, 2, 0, 1, 4, 2, 2, 4, 2,\n",
              "       1, 0, 2, 0, 3, 0, 4, 1, 3, 0, 0, 2, 2, 2, 2, 4, 2, 1, 4, 2, 2, 0,\n",
              "       1, 4, 0, 1, 0, 1, 4, 4, 0, 1, 4, 0, 1, 0, 2, 1, 1, 1, 1, 2, 4, 1,\n",
              "       1, 3, 1, 3, 2, 2, 0, 0, 4, 0, 0, 0, 0, 3, 1, 1, 2, 0, 2, 3, 4, 2,\n",
              "       2, 0, 2, 2, 0, 4, 1, 0, 2, 2, 1, 1, 0, 1, 2, 4, 0, 4, 4, 3, 1, 1,\n",
              "       1, 4, 0, 0, 2, 4, 4, 2, 1, 1, 4, 0, 1, 2, 0, 1, 2, 1, 2, 4, 1, 0,\n",
              "       1, 0, 4, 0, 4, 4, 0, 1, 0, 4, 2, 0, 0, 1, 1, 1, 0, 4, 2, 2, 0, 0,\n",
              "       2, 1, 2, 4, 1, 0, 0, 0, 0, 2, 2, 4, 0, 3, 0, 1, 0, 1, 3, 4, 4, 2,\n",
              "       2, 4, 4, 0, 2, 1, 0, 0, 4, 2, 1, 2, 1, 0, 1, 3, 0, 1, 2, 3, 2, 4,\n",
              "       2, 1, 0, 2, 1, 0, 2, 4, 0, 1, 2, 2, 4, 1, 2, 2, 2, 3, 0, 1, 1, 0,\n",
              "       2, 2, 1, 2, 2, 4, 0, 1, 4, 4, 1, 4, 0, 1, 3, 4, 2, 2, 1, 1, 0, 1,\n",
              "       0, 2, 0, 2, 2, 0, 0, 4, 2, 4, 0, 2, 2, 1, 2, 1, 4, 2, 2, 4, 0, 2,\n",
              "       1, 4, 0, 1, 1, 1, 3, 4, 0, 1, 0, 0, 2, 1, 2, 1, 4, 4, 4, 1, 1, 4,\n",
              "       1, 2, 1, 3, 2, 0, 2, 4, 1, 1, 1, 1, 4, 1, 4, 2, 1, 1, 2, 3, 4, 2,\n",
              "       0, 2, 0, 4, 4, 1, 0, 4, 0, 3, 4, 2, 1, 1, 0, 2, 3, 0, 0, 0, 1, 2,\n",
              "       4, 1, 2, 2, 1, 2, 0, 1, 2, 1, 2, 1, 2, 0, 1, 1, 4, 4, 0, 0, 2, 2,\n",
              "       2, 0, 2, 1, 1, 1, 1, 4, 0, 1, 0, 4, 2, 3, 0, 0, 4, 2, 2, 1, 2, 2,\n",
              "       2, 2, 1, 1, 2, 0, 1, 0, 0], dtype=int32)"
            ]
          },
          "metadata": {},
          "execution_count": 26
        }
      ]
    },
    {
      "cell_type": "markdown",
      "source": [
        "Build a dataframe with cluster labels, cancer class"
      ],
      "metadata": {
        "id": "DE5wkGm0e7yK"
      }
    },
    {
      "cell_type": "code",
      "source": [
        "df_Kmeans= pca_d.drop(['cancer_types'], axis=1)\n",
        "df_Kmeans.loc[:,'Cls_label']= clusters.labels_\n",
        "df_Kmeans.loc[:, 'Class']= df['Class']\n",
        "df_Kmeans"
      ],
      "metadata": {
        "colab": {
          "base_uri": "https://localhost:8080/",
          "height": 424
        },
        "id": "LK0x5uZVKncy",
        "outputId": "d397cd3d-e5f1-4e29-9de1-4ca363f465bf"
      },
      "execution_count": null,
      "outputs": [
        {
          "output_type": "execute_result",
          "data": {
            "text/plain": [
              "         pca_1      pca_2  Cls_label Class\n",
              "0   -57.484253  95.396286          3  PRAD\n",
              "1   -16.921999   0.726963          1  LUAD\n",
              "2   -70.349738 -19.306711          0  PRAD\n",
              "3   -49.171033  -9.219326          0  PRAD\n",
              "4   -18.104740 -51.349731          2  BRCA\n",
              "..         ...        ...        ...   ...\n",
              "796 -12.390661 -42.345786          2  BRCA\n",
              "797 -29.427016  28.516217          0  LUAD\n",
              "798  -4.151801  15.707382          1  COAD\n",
              "799 -30.837016  33.536101          0  PRAD\n",
              "800 -22.355716   4.061770          0  PRAD\n",
              "\n",
              "[801 rows x 4 columns]"
            ],
            "text/html": [
              "\n",
              "  <div id=\"df-bf95e816-cc84-4de0-88a7-a691df2daa05\">\n",
              "    <div class=\"colab-df-container\">\n",
              "      <div>\n",
              "<style scoped>\n",
              "    .dataframe tbody tr th:only-of-type {\n",
              "        vertical-align: middle;\n",
              "    }\n",
              "\n",
              "    .dataframe tbody tr th {\n",
              "        vertical-align: top;\n",
              "    }\n",
              "\n",
              "    .dataframe thead th {\n",
              "        text-align: right;\n",
              "    }\n",
              "</style>\n",
              "<table border=\"1\" class=\"dataframe\">\n",
              "  <thead>\n",
              "    <tr style=\"text-align: right;\">\n",
              "      <th></th>\n",
              "      <th>pca_1</th>\n",
              "      <th>pca_2</th>\n",
              "      <th>Cls_label</th>\n",
              "      <th>Class</th>\n",
              "    </tr>\n",
              "  </thead>\n",
              "  <tbody>\n",
              "    <tr>\n",
              "      <th>0</th>\n",
              "      <td>-57.484253</td>\n",
              "      <td>95.396286</td>\n",
              "      <td>3</td>\n",
              "      <td>PRAD</td>\n",
              "    </tr>\n",
              "    <tr>\n",
              "      <th>1</th>\n",
              "      <td>-16.921999</td>\n",
              "      <td>0.726963</td>\n",
              "      <td>1</td>\n",
              "      <td>LUAD</td>\n",
              "    </tr>\n",
              "    <tr>\n",
              "      <th>2</th>\n",
              "      <td>-70.349738</td>\n",
              "      <td>-19.306711</td>\n",
              "      <td>0</td>\n",
              "      <td>PRAD</td>\n",
              "    </tr>\n",
              "    <tr>\n",
              "      <th>3</th>\n",
              "      <td>-49.171033</td>\n",
              "      <td>-9.219326</td>\n",
              "      <td>0</td>\n",
              "      <td>PRAD</td>\n",
              "    </tr>\n",
              "    <tr>\n",
              "      <th>4</th>\n",
              "      <td>-18.104740</td>\n",
              "      <td>-51.349731</td>\n",
              "      <td>2</td>\n",
              "      <td>BRCA</td>\n",
              "    </tr>\n",
              "    <tr>\n",
              "      <th>...</th>\n",
              "      <td>...</td>\n",
              "      <td>...</td>\n",
              "      <td>...</td>\n",
              "      <td>...</td>\n",
              "    </tr>\n",
              "    <tr>\n",
              "      <th>796</th>\n",
              "      <td>-12.390661</td>\n",
              "      <td>-42.345786</td>\n",
              "      <td>2</td>\n",
              "      <td>BRCA</td>\n",
              "    </tr>\n",
              "    <tr>\n",
              "      <th>797</th>\n",
              "      <td>-29.427016</td>\n",
              "      <td>28.516217</td>\n",
              "      <td>0</td>\n",
              "      <td>LUAD</td>\n",
              "    </tr>\n",
              "    <tr>\n",
              "      <th>798</th>\n",
              "      <td>-4.151801</td>\n",
              "      <td>15.707382</td>\n",
              "      <td>1</td>\n",
              "      <td>COAD</td>\n",
              "    </tr>\n",
              "    <tr>\n",
              "      <th>799</th>\n",
              "      <td>-30.837016</td>\n",
              "      <td>33.536101</td>\n",
              "      <td>0</td>\n",
              "      <td>PRAD</td>\n",
              "    </tr>\n",
              "    <tr>\n",
              "      <th>800</th>\n",
              "      <td>-22.355716</td>\n",
              "      <td>4.061770</td>\n",
              "      <td>0</td>\n",
              "      <td>PRAD</td>\n",
              "    </tr>\n",
              "  </tbody>\n",
              "</table>\n",
              "<p>801 rows × 4 columns</p>\n",
              "</div>\n",
              "      <button class=\"colab-df-convert\" onclick=\"convertToInteractive('df-bf95e816-cc84-4de0-88a7-a691df2daa05')\"\n",
              "              title=\"Convert this dataframe to an interactive table.\"\n",
              "              style=\"display:none;\">\n",
              "        \n",
              "  <svg xmlns=\"http://www.w3.org/2000/svg\" height=\"24px\"viewBox=\"0 0 24 24\"\n",
              "       width=\"24px\">\n",
              "    <path d=\"M0 0h24v24H0V0z\" fill=\"none\"/>\n",
              "    <path d=\"M18.56 5.44l.94 2.06.94-2.06 2.06-.94-2.06-.94-.94-2.06-.94 2.06-2.06.94zm-11 1L8.5 8.5l.94-2.06 2.06-.94-2.06-.94L8.5 2.5l-.94 2.06-2.06.94zm10 10l.94 2.06.94-2.06 2.06-.94-2.06-.94-.94-2.06-.94 2.06-2.06.94z\"/><path d=\"M17.41 7.96l-1.37-1.37c-.4-.4-.92-.59-1.43-.59-.52 0-1.04.2-1.43.59L10.3 9.45l-7.72 7.72c-.78.78-.78 2.05 0 2.83L4 21.41c.39.39.9.59 1.41.59.51 0 1.02-.2 1.41-.59l7.78-7.78 2.81-2.81c.8-.78.8-2.07 0-2.86zM5.41 20L4 18.59l7.72-7.72 1.47 1.35L5.41 20z\"/>\n",
              "  </svg>\n",
              "      </button>\n",
              "      \n",
              "  <style>\n",
              "    .colab-df-container {\n",
              "      display:flex;\n",
              "      flex-wrap:wrap;\n",
              "      gap: 12px;\n",
              "    }\n",
              "\n",
              "    .colab-df-convert {\n",
              "      background-color: #E8F0FE;\n",
              "      border: none;\n",
              "      border-radius: 50%;\n",
              "      cursor: pointer;\n",
              "      display: none;\n",
              "      fill: #1967D2;\n",
              "      height: 32px;\n",
              "      padding: 0 0 0 0;\n",
              "      width: 32px;\n",
              "    }\n",
              "\n",
              "    .colab-df-convert:hover {\n",
              "      background-color: #E2EBFA;\n",
              "      box-shadow: 0px 1px 2px rgba(60, 64, 67, 0.3), 0px 1px 3px 1px rgba(60, 64, 67, 0.15);\n",
              "      fill: #174EA6;\n",
              "    }\n",
              "\n",
              "    [theme=dark] .colab-df-convert {\n",
              "      background-color: #3B4455;\n",
              "      fill: #D2E3FC;\n",
              "    }\n",
              "\n",
              "    [theme=dark] .colab-df-convert:hover {\n",
              "      background-color: #434B5C;\n",
              "      box-shadow: 0px 1px 3px 1px rgba(0, 0, 0, 0.15);\n",
              "      filter: drop-shadow(0px 1px 2px rgba(0, 0, 0, 0.3));\n",
              "      fill: #FFFFFF;\n",
              "    }\n",
              "  </style>\n",
              "\n",
              "      <script>\n",
              "        const buttonEl =\n",
              "          document.querySelector('#df-bf95e816-cc84-4de0-88a7-a691df2daa05 button.colab-df-convert');\n",
              "        buttonEl.style.display =\n",
              "          google.colab.kernel.accessAllowed ? 'block' : 'none';\n",
              "\n",
              "        async function convertToInteractive(key) {\n",
              "          const element = document.querySelector('#df-bf95e816-cc84-4de0-88a7-a691df2daa05');\n",
              "          const dataTable =\n",
              "            await google.colab.kernel.invokeFunction('convertToInteractive',\n",
              "                                                     [key], {});\n",
              "          if (!dataTable) return;\n",
              "\n",
              "          const docLinkHtml = 'Like what you see? Visit the ' +\n",
              "            '<a target=\"_blank\" href=https://colab.research.google.com/notebooks/data_table.ipynb>data table notebook</a>'\n",
              "            + ' to learn more about interactive tables.';\n",
              "          element.innerHTML = '';\n",
              "          dataTable['output_type'] = 'display_data';\n",
              "          await google.colab.output.renderOutput(dataTable, element);\n",
              "          const docLink = document.createElement('div');\n",
              "          docLink.innerHTML = docLinkHtml;\n",
              "          element.appendChild(docLink);\n",
              "        }\n",
              "      </script>\n",
              "    </div>\n",
              "  </div>\n",
              "  "
            ]
          },
          "metadata": {},
          "execution_count": 27
        }
      ]
    },
    {
      "cell_type": "code",
      "source": [
        "BRCA= df_Kmeans.groupby('Class').get_group('BRCA')\n",
        "BRCA.Cls_label.value_counts()"
      ],
      "metadata": {
        "colab": {
          "base_uri": "https://localhost:8080/"
        },
        "id": "8qBhjqkKgJ3x",
        "outputId": "3b15fb28-209f-4266-bb32-c2dbadc98a5b"
      },
      "execution_count": null,
      "outputs": [
        {
          "output_type": "execute_result",
          "data": {
            "text/plain": [
              "2    196\n",
              "1     49\n",
              "0     36\n",
              "3     19\n",
              "Name: Cls_label, dtype: int64"
            ]
          },
          "metadata": {},
          "execution_count": 28
        }
      ]
    },
    {
      "cell_type": "code",
      "source": [
        "KIRC= df_Kmeans.groupby('Class').get_group('KIRC')\n",
        "KIRC.Cls_label.value_counts()"
      ],
      "metadata": {
        "colab": {
          "base_uri": "https://localhost:8080/"
        },
        "id": "jAp3w5JcixCw",
        "outputId": "407e6e22-b23f-43f8-cbda-a61b9606ea4f"
      },
      "execution_count": null,
      "outputs": [
        {
          "output_type": "execute_result",
          "data": {
            "text/plain": [
              "4    139\n",
              "1      6\n",
              "3      1\n",
              "Name: Cls_label, dtype: int64"
            ]
          },
          "metadata": {},
          "execution_count": 29
        }
      ]
    },
    {
      "cell_type": "code",
      "source": [
        "LUAD= df_Kmeans.groupby('Class').get_group('LUAD')\n",
        "LUAD.Cls_label.value_counts()"
      ],
      "metadata": {
        "colab": {
          "base_uri": "https://localhost:8080/"
        },
        "id": "AuaQyqqajVL_",
        "outputId": "13e6c2c0-39aa-4d24-fe58-7e086f29a391"
      },
      "execution_count": null,
      "outputs": [
        {
          "output_type": "execute_result",
          "data": {
            "text/plain": [
              "1    89\n",
              "0    38\n",
              "2     8\n",
              "3     5\n",
              "4     1\n",
              "Name: Cls_label, dtype: int64"
            ]
          },
          "metadata": {},
          "execution_count": 30
        }
      ]
    },
    {
      "cell_type": "code",
      "source": [
        "PRAD= df_Kmeans.groupby('Class').get_group('PRAD')\n",
        "PRAD.Cls_label.value_counts()"
      ],
      "metadata": {
        "colab": {
          "base_uri": "https://localhost:8080/"
        },
        "id": "ePgGCDVYjuG9",
        "outputId": "468399c2-9919-4aab-dc91-04db203e6024"
      },
      "execution_count": null,
      "outputs": [
        {
          "output_type": "execute_result",
          "data": {
            "text/plain": [
              "0    64\n",
              "1    48\n",
              "3    13\n",
              "2    11\n",
              "Name: Cls_label, dtype: int64"
            ]
          },
          "metadata": {},
          "execution_count": 31
        }
      ]
    },
    {
      "cell_type": "code",
      "source": [
        "COAD= df_Kmeans.groupby('Class').get_group('COAD')\n",
        "COAD.Cls_label.value_counts()"
      ],
      "metadata": {
        "colab": {
          "base_uri": "https://localhost:8080/"
        },
        "id": "vNFa7JaDj5VP",
        "outputId": "eb0a2513-edeb-4271-be30-5e8ba0c29c3a"
      },
      "execution_count": null,
      "outputs": [
        {
          "output_type": "execute_result",
          "data": {
            "text/plain": [
              "0    62\n",
              "3    10\n",
              "1     6\n",
              "Name: Cls_label, dtype: int64"
            ]
          },
          "metadata": {},
          "execution_count": 32
        }
      ]
    },
    {
      "cell_type": "code",
      "source": [
        "clusters.cluster_centers_"
      ],
      "metadata": {
        "colab": {
          "base_uri": "https://localhost:8080/"
        },
        "id": "_InNpnGPkMJN",
        "outputId": "28a012ca-a139-4f72-a3db-1a4129f7c69b"
      },
      "execution_count": null,
      "outputs": [
        {
          "output_type": "execute_result",
          "data": {
            "text/plain": [
              "array([[-39.63267101,  16.99342856],\n",
              "       [  1.14329415,  -0.41765545],\n",
              "       [ -2.87205542, -53.73417975],\n",
              "       [-60.82403053,  73.83134856],\n",
              "       [ 80.52834255,  33.01590266]])"
            ]
          },
          "metadata": {},
          "execution_count": 33
        }
      ]
    },
    {
      "cell_type": "code",
      "source": [
        "Cls_Center = pd.DataFrame(clusters.cluster_centers_)\n",
        "Cls_Center.columns = ['0', '1']"
      ],
      "metadata": {
        "id": "aauVQPVpm4kW"
      },
      "execution_count": null,
      "outputs": []
    },
    {
      "cell_type": "code",
      "source": [
        "kmeans = KMeans(n_clusters=5, init='k-means++', max_iter=300, n_init=10, random_state=0)\n",
        "pred_y = kmeans.fit_predict(pca_data)\n",
        "\n",
        "colors = np.array([x for x in \"bgcmyk\"])\n",
        "plt.scatter(x= 'pca_1', y='pca_2',data=pca_d,color=colors[pred_y].tolist(),alpha=0.4 )\n",
        "plt.scatter(kmeans.cluster_centers_[:, 0], kmeans.cluster_centers_[:, 1],s=300, c='black')\n",
        "blue_patch = mpatches.Patch(color='b', label='BRCA')\n",
        "green_patch = mpatches.Patch(color='g', label='KIRC')\n",
        "red_patch = mpatches.Patch(color='c', label='COAD')\n",
        "patch_4 = mpatches.Patch(color='m', label='LUAD')\n",
        "patch_5 =  mpatches.Patch(color='y', label='PRAD')\n",
        "plt.legend(handles=[red_patch,blue_patch,green_patch,patch_4,patch_5], framealpha=0.5,prop={'size': 8})\n",
        "plt.show()"
      ],
      "metadata": {
        "colab": {
          "base_uri": "https://localhost:8080/",
          "height": 266
        },
        "id": "8sTUNfRWkM4b",
        "outputId": "8ccd121c-c4df-4d6e-98b4-e20a34f20704"
      },
      "execution_count": null,
      "outputs": [
        {
          "output_type": "display_data",
          "data": {
            "text/plain": [
              "<Figure size 432x288 with 1 Axes>"
            ],
            "image/png": "[encoded data removed]"
          },
          "metadata": {
            "needs_background": "light"
          }
        }
      ]
    },
    {
      "cell_type": "markdown",
      "source": [
        "Agglomerative Hierarchical Clustering with tSNE"
      ],
      "metadata": {
        "id": "Jg8klX62ih2U"
      }
    },
    {
      "cell_type": "code",
      "source": [
        "from scipy.cluster.hierarchy import linkage, dendrogram\n",
        "Z = linkage(tSNE_data, method='ward')\n",
        "dendrogram(Z)\n",
        "plt.axhline(y=200, color='r', linestyle='--')\n",
        "plt.show()"
      ],
      "metadata": {
        "colab": {
          "base_uri": "https://localhost:8080/",
          "height": 265
        },
        "id": "i9vHFum2iOqD",
        "outputId": "49134e78-3aba-4485-935a-ca04c7492d43"
      },
      "execution_count": null,
      "outputs": [
        {
          "output_type": "display_data",
          "data": {
            "text/plain": [
              "<Figure size 432x288 with 1 Axes>"
            ],
            "image/png": "[encoded data removed]"
          },
          "metadata": {
            "needs_background": "light"
          }
        }
      ]
    },
    {
      "cell_type": "code",
      "source": [
        "from sklearn.cluster import AgglomerativeClustering\n",
        "AHC = AgglomerativeClustering(n_clusters=None,linkage=\"ward\", affinity=\"euclidean\",distance_threshold=200)\n",
        "pred= AHC.fit_predict(tSNE_data)\n",
        "\n",
        "plt.scatter(tSNE_data[pred == 0, 0], tSNE_data[pred == 0, 1], s = 80, c = 'orange', label = 'BRCA')\n",
        "plt.scatter(tSNE_data[pred == 1, 0], tSNE_data[pred == 1, 1], s = 80, c = 'purple', label = 'KIRC')\n",
        "plt.scatter(tSNE_data[pred == 2, 0], tSNE_data[pred == 2, 1], s = 80, c = 'purple', label = 'LUAD')\n",
        "plt.scatter(tSNE_data[pred == 3, 0], tSNE_data[pred == 3, 1], s = 80, c = 'black', label = 'PRAD')\n",
        "plt.scatter(tSNE_data[pred == 4, 0], tSNE_data[pred == 4, 1], s = 80, c = 'teal', label = 'COAD')\n",
        "plt.scatter(tSNE_data[:,0],tSNE_data[:,1], c=AHC.fit_predict(tSNE_data), cmap='rainbow')\n",
        "plt.title(f\"SK Learn estimated number of clusters = {1+np.amax(AHC.labels_)}\")\n",
        "plt.legend(loc='upper right')\n",
        "plt.show()"
      ],
      "metadata": {
        "colab": {
          "base_uri": "https://localhost:8080/",
          "height": 281
        },
        "id": "Q22zA3TyJQNN",
        "outputId": "3fa1f43d-26dc-4327-97ef-f2875430a0b2"
      },
      "execution_count": null,
      "outputs": [
        {
          "output_type": "display_data",
          "data": {
            "text/plain": [
              "<Figure size 432x288 with 1 Axes>"
            ],
            "image/png": "[encoded data removed]"
          },
          "metadata": {
            "needs_background": "light"
          }
        }
      ]
    },
    {
      "cell_type": "markdown",
      "source": [
        "3- build a classification model(s) using multiclass **SVM**, **Random Forest**, and **Deep Neural Network** to classify the input data into five cancer types."
      ],
      "metadata": {
        "id": "Yn407Cs5v6q2"
      }
    },
    {
      "cell_type": "code",
      "source": [
        "x = lda_d.drop('cancer_types', axis=1)\n",
        "Y = df['cancer_types']\n",
        "x.shape, Y.shape"
      ],
      "metadata": {
        "colab": {
          "base_uri": "https://localhost:8080/"
        },
        "id": "2hh25S1XwdXC",
        "outputId": "96ae72b3-a10a-4414-b5d2-33d2b0a2a7a2"
      },
      "execution_count": null,
      "outputs": [
        {
          "output_type": "execute_result",
          "data": {
            "text/plain": [
              "((801, 2), (801,))"
            ]
          },
          "metadata": {},
          "execution_count": 38
        }
      ]
    },
    {
      "cell_type": "code",
      "source": [
        "from sklearn.model_selection import train_test_split\n",
        "x_train, x_test, y_train, y_test = train_test_split(x,Y,test_size=0.3, random_state=52)"
      ],
      "metadata": {
        "id": "euifzHF1zjA4"
      },
      "execution_count": null,
      "outputs": []
    },
    {
      "cell_type": "code",
      "source": [
        "results ={}"
      ],
      "metadata": {
        "id": "0mGYdYL-SI10"
      },
      "execution_count": null,
      "outputs": []
    },
    {
      "cell_type": "code",
      "source": [
        "from sklearn import svm\n",
        "from sklearn.svm import SVC\n",
        "from sklearn.model_selection import GridSearchCV\n",
        "\n",
        "param_grid = {'C': [0.0001, 0.001, 0.1, 1, 10, 100], 'gamma': [10, 1, 0.1, 0.01, 0.001, 0.00001]}\n",
        "clf_grid = GridSearchCV(svm.SVC(), param_grid, verbose=1)\n",
        "clf_grid.fit(x_train, y_train)\n",
        "print(\"Best Estimators:\\n\", clf_grid.best_estimator_)"
      ],
      "metadata": {
        "colab": {
          "base_uri": "https://localhost:8080/"
        },
        "id": "KU2zYpWJ7K7S",
        "outputId": "b01bdde4-f1cb-4d0d-950c-161be745ca89"
      },
      "execution_count": null,
      "outputs": [
        {
          "output_type": "stream",
          "name": "stdout",
          "text": [
            "Fitting 5 folds for each of 36 candidates, totalling 180 fits\n",
            "Best Estimators:\n",
            " SVC(C=1, gamma=0.1)\n"
          ]
        }
      ]
    },
    {
      "cell_type": "code",
      "source": [
        "SVC_clf = SVC(gamma= 0.1, C= 1)\n",
        "SVC_clf.fit(x_train, y_train)\n",
        "pred_SVC = SVC_clf.predict(x_test)\n",
        "accuracy= SVC_clf.score(x_test,y_test)\n",
        "print(accuracy)"
      ],
      "metadata": {
        "colab": {
          "base_uri": "https://localhost:8080/"
        },
        "id": "DiCQbvol_K7Q",
        "outputId": "3eb1899b-e5a2-4b1f-f603-9e9d0cbaf03b"
      },
      "execution_count": null,
      "outputs": [
        {
          "output_type": "stream",
          "name": "stdout",
          "text": [
            "0.983402489626556\n"
          ]
        }
      ]
    },
    {
      "cell_type": "code",
      "source": [
        "from sklearn.model_selection import GridSearchCV\n",
        "from sklearn.ensemble import AdaBoostClassifier\n",
        "parameters = {'n_estimators' : np.arange(10,200,10), 'learning_rate': [0.01, 0.05, 0.1, 1]}\n",
        "grid_cv = GridSearchCV(AdaBoostClassifier(), param_grid= parameters, cv=5, n_jobs=-1)\n",
        "grid_cv.fit(x_train, y_train)\n",
        "print(\"Best Parameters:\\n\", grid_cv.best_params_)"
      ],
      "metadata": {
        "colab": {
          "base_uri": "https://localhost:8080/"
        },
        "id": "3qxK6DJJamxZ",
        "outputId": "bb9bf6bd-1fb7-4d1f-ba20-a2388943ecb4"
      },
      "execution_count": null,
      "outputs": [
        {
          "output_type": "stream",
          "name": "stdout",
          "text": [
            "Best Parameters:\n",
            " {'learning_rate': 0.05, 'n_estimators': 40}\n"
          ]
        }
      ]
    },
    {
      "cell_type": "code",
      "source": [
        "from sklearn.ensemble import AdaBoostClassifier\n",
        "abc = AdaBoostClassifier( n_estimators= 40, learning_rate=0.05, random_state=46)\n",
        "abc = abc.fit(x_train, y_train)\n",
        "pred_abc= abc.predict(x_test)\n",
        "accuracy_abc = abc.score(x_test, y_test)\n",
        "print(accuracy_abc)"
      ],
      "metadata": {
        "colab": {
          "base_uri": "https://localhost:8080/"
        },
        "id": "ISzbYGf0eNb9",
        "outputId": "642a91b6-dfe1-4e7e-c4f3-992b7281203e"
      },
      "execution_count": null,
      "outputs": [
        {
          "output_type": "stream",
          "name": "stdout",
          "text": [
            "0.975103734439834\n"
          ]
        }
      ]
    },
    {
      "cell_type": "code",
      "source": [
        "from sklearn.neural_network import MLPClassifier\n",
        "layers = [1, 2, 3, 4]\n",
        "neurons = [5, 10, 20, 50]\n",
        "list_params = [(layers[i], neurons[j]) for i in range(len(layers)) for j in range(len(neurons))]\n",
        "for layers, neurons in list_params:\n",
        "    clf_name = f'MLPClassifier - l{layers} n{neurons}'\n",
        "    clf = MLPClassifier(hidden_layer_sizes=tuple((neurons for _ in range(layers))),solver='adam', alpha=1e-5, random_state=1)\n",
        "    # solver is reffered to prefferd weight optimizer, main three solver models are \n",
        "    #'lbfgs': optimizer in the family of quasi-Newton methods.\n",
        "    #'sgd': stochastic gradient descent.\n",
        "    #'adam' stochastic gradient-based optimizer proposed by Kingma, Diederik, and Jimmy Ba\n",
        "    clf.fit(x_train, y_train)\n",
        "    accuracy = clf.score(x_test, y_test)\n",
        "    results[clf_name]= accuracy"
      ],
      "metadata": {
        "colab": {
          "base_uri": "https://localhost:8080/"
        },
        "id": "WIEZIfxPPBmE",
        "outputId": "eb65feb5-a7ef-41b3-b626-dfedb68a2ed4"
      },
      "execution_count": null,
      "outputs": [
        {
          "output_type": "stream",
          "name": "stderr",
          "text": [
            "/usr/local/lib/python3.8/dist-packages/sklearn/neural_network/_multilayer_perceptron.py:692: ConvergenceWarning: Stochastic Optimizer: Maximum iterations (200) reached and the optimization hasn't converged yet.\n",
            "  warnings.warn(\n",
            "/usr/local/lib/python3.8/dist-packages/sklearn/neural_network/_multilayer_perceptron.py:692: ConvergenceWarning: Stochastic Optimizer: Maximum iterations (200) reached and the optimization hasn't converged yet.\n",
            "  warnings.warn(\n",
            "/usr/local/lib/python3.8/dist-packages/sklearn/neural_network/_multilayer_perceptron.py:692: ConvergenceWarning: Stochastic Optimizer: Maximum iterations (200) reached and the optimization hasn't converged yet.\n",
            "  warnings.warn(\n",
            "/usr/local/lib/python3.8/dist-packages/sklearn/neural_network/_multilayer_perceptron.py:692: ConvergenceWarning: Stochastic Optimizer: Maximum iterations (200) reached and the optimization hasn't converged yet.\n",
            "  warnings.warn(\n",
            "/usr/local/lib/python3.8/dist-packages/sklearn/neural_network/_multilayer_perceptron.py:692: ConvergenceWarning: Stochastic Optimizer: Maximum iterations (200) reached and the optimization hasn't converged yet.\n",
            "  warnings.warn(\n",
            "/usr/local/lib/python3.8/dist-packages/sklearn/neural_network/_multilayer_perceptron.py:692: ConvergenceWarning: Stochastic Optimizer: Maximum iterations (200) reached and the optimization hasn't converged yet.\n",
            "  warnings.warn(\n",
            "/usr/local/lib/python3.8/dist-packages/sklearn/neural_network/_multilayer_perceptron.py:692: ConvergenceWarning: Stochastic Optimizer: Maximum iterations (200) reached and the optimization hasn't converged yet.\n",
            "  warnings.warn(\n",
            "/usr/local/lib/python3.8/dist-packages/sklearn/neural_network/_multilayer_perceptron.py:692: ConvergenceWarning: Stochastic Optimizer: Maximum iterations (200) reached and the optimization hasn't converged yet.\n",
            "  warnings.warn(\n",
            "/usr/local/lib/python3.8/dist-packages/sklearn/neural_network/_multilayer_perceptron.py:692: ConvergenceWarning: Stochastic Optimizer: Maximum iterations (200) reached and the optimization hasn't converged yet.\n",
            "  warnings.warn(\n",
            "/usr/local/lib/python3.8/dist-packages/sklearn/neural_network/_multilayer_perceptron.py:692: ConvergenceWarning: Stochastic Optimizer: Maximum iterations (200) reached and the optimization hasn't converged yet.\n",
            "  warnings.warn(\n",
            "/usr/local/lib/python3.8/dist-packages/sklearn/neural_network/_multilayer_perceptron.py:692: ConvergenceWarning: Stochastic Optimizer: Maximum iterations (200) reached and the optimization hasn't converged yet.\n",
            "  warnings.warn(\n",
            "/usr/local/lib/python3.8/dist-packages/sklearn/neural_network/_multilayer_perceptron.py:692: ConvergenceWarning: Stochastic Optimizer: Maximum iterations (200) reached and the optimization hasn't converged yet.\n",
            "  warnings.warn(\n",
            "/usr/local/lib/python3.8/dist-packages/sklearn/neural_network/_multilayer_perceptron.py:692: ConvergenceWarning: Stochastic Optimizer: Maximum iterations (200) reached and the optimization hasn't converged yet.\n",
            "  warnings.warn(\n",
            "/usr/local/lib/python3.8/dist-packages/sklearn/neural_network/_multilayer_perceptron.py:692: ConvergenceWarning: Stochastic Optimizer: Maximum iterations (200) reached and the optimization hasn't converged yet.\n",
            "  warnings.warn(\n",
            "/usr/local/lib/python3.8/dist-packages/sklearn/neural_network/_multilayer_perceptron.py:692: ConvergenceWarning: Stochastic Optimizer: Maximum iterations (200) reached and the optimization hasn't converged yet.\n",
            "  warnings.warn(\n",
            "/usr/local/lib/python3.8/dist-packages/sklearn/neural_network/_multilayer_perceptron.py:692: ConvergenceWarning: Stochastic Optimizer: Maximum iterations (200) reached and the optimization hasn't converged yet.\n",
            "  warnings.warn(\n"
          ]
        }
      ]
    },
    {
      "cell_type": "code",
      "source": [
        "def pretty_print_dict(dic, string=\"%k %v\", key_code=\"%k\", value_code=\"%v\", value_lambda=lambda x : x):\n",
        "    max_len_key = max([len(key) for key in dic.keys()])\n",
        "    for key in dic.keys():\n",
        "        pretty_key = key + (\" \" * (max_len_key - len(key)))\n",
        "        updated_value = value_lambda(dic[key])\n",
        "        result = string\n",
        "        result = result.replace(key_code, pretty_key)\n",
        "        result = result.replace(value_code, str(updated_value))\n",
        "        print(result)"
      ],
      "metadata": {
        "id": "XCa1sLjFPmRo"
      },
      "execution_count": null,
      "outputs": []
    },
    {
      "cell_type": "code",
      "source": [
        "pretty_print_dict(results, string=\"%k %v\", value_lambda = lambda x: x*100)"
      ],
      "metadata": {
        "colab": {
          "base_uri": "https://localhost:8080/"
        },
        "id": "N7Spq-jNVZeU",
        "outputId": "977e8ec6-8f91-474c-b901-65b0e451134e"
      },
      "execution_count": null,
      "outputs": [
        {
          "output_type": "stream",
          "name": "stdout",
          "text": [
            "MLPClassifier - l1 n5  71.78423236514523\n",
            "MLPClassifier - l1 n10 98.7551867219917\n",
            "MLPClassifier - l1 n20 97.9253112033195\n",
            "MLPClassifier - l1 n50 98.3402489626556\n",
            "MLPClassifier - l2 n5  90.45643153526972\n",
            "MLPClassifier - l2 n10 98.3402489626556\n",
            "MLPClassifier - l2 n20 97.9253112033195\n",
            "MLPClassifier - l2 n50 97.9253112033195\n",
            "MLPClassifier - l3 n5  80.08298755186722\n",
            "MLPClassifier - l3 n10 98.3402489626556\n",
            "MLPClassifier - l3 n20 97.9253112033195\n",
            "MLPClassifier - l3 n50 97.9253112033195\n",
            "MLPClassifier - l4 n5  95.850622406639\n",
            "MLPClassifier - l4 n10 98.3402489626556\n",
            "MLPClassifier - l4 n20 97.5103734439834\n",
            "MLPClassifier - l4 n50 97.9253112033195\n"
          ]
        }
      ]
    },
    {
      "cell_type": "markdown",
      "source": [
        "4- Apply the feature selection algorithms, forward selection and backward elimination to refine selected attributes using the classification model from the previous step.\n"
      ],
      "metadata": {
        "id": "6AkjRamUWaXW"
      }
    },
    {
      "cell_type": "markdown",
      "source": [
        "We can use **Recursive Feature Elimination (RFE)** alogorithm and use crossvalidation to check the accuracy score."
      ],
      "metadata": {
        "id": "pHAzMjIvWz6w"
      }
    },
    {
      "cell_type": "code",
      "source": [
        "lda_d.size, tSNE_d.size, pca_d.size"
      ],
      "metadata": {
        "colab": {
          "base_uri": "https://localhost:8080/"
        },
        "id": "uFyl2QIHbxva",
        "outputId": "89b37c73-0e96-4d28-c484-0cd6f27c309b"
      },
      "execution_count": null,
      "outputs": [
        {
          "output_type": "execute_result",
          "data": {
            "text/plain": [
              "(2403, 2403, 2403)"
            ]
          },
          "metadata": {},
          "execution_count": 48
        }
      ]
    },
    {
      "cell_type": "code",
      "source": [
        "from sklearn.datasets import make_classification\n",
        "from sklearn.tree import DecisionTreeClassifier\n",
        "from sklearn.feature_selection import RFECV\n",
        "from sklearn.model_selection import RepeatedStratifiedKFold\n",
        "from sklearn.model_selection import cross_val_score\n",
        "from sklearn.pipeline import Pipeline\n",
        "from numpy.ma.core import repeat\n",
        "from numpy import mean\n",
        "from numpy import std\n",
        "\n",
        "X, y = make_classification(n_samples= 2402, n_features= 10, n_informative= 5, n_redundant=5, random_state= 1)\n",
        "model= DecisionTreeClassifier()\n",
        "rfe= RFECV(estimator = model)\n",
        "pipeline = Pipeline(steps=[('s',rfe),('m', model)])\n",
        "\n",
        "cv = RepeatedStratifiedKFold(n_splits= 10, n_repeats= 5, random_state=1)\n",
        "n_scores = cross_val_score(pipeline, X, y, scoring ='accuracy', cv=cv, n_jobs=-1, error_score ='raise')\n",
        "print('Accuracy: %.3f (%.3f)' % (mean(n_scores), std(n_scores)))"
      ],
      "metadata": {
        "colab": {
          "base_uri": "https://localhost:8080/"
        },
        "id": "F_DN_TUnVo_C",
        "outputId": "4c2d49a5-7c86-42e3-f3b9-e1596078b990"
      },
      "execution_count": null,
      "outputs": [
        {
          "output_type": "stream",
          "name": "stdout",
          "text": [
            "Accuracy: 0.911 (0.017)\n"
          ]
        }
      ]
    },
    {
      "cell_type": "markdown",
      "source": [
        "5- Validate the genes selected from the last step using statistical significance testing (**t-test** for one vs. all and **F-test**)"
      ],
      "metadata": {
        "id": "yJErEn_MdEEd"
      }
    },
    {
      "cell_type": "code",
      "source": [
        "tSNE_d.loc[:,'cancer_types']= df['Class']\n",
        "tSNE_d.columns = ['tsne1','tsne2', 'cancer_types']\n",
        "tSNE_d"
      ],
      "metadata": {
        "colab": {
          "base_uri": "https://localhost:8080/",
          "height": 424
        },
        "id": "2qPS4B5hhxUL",
        "outputId": "74e1d88c-62b7-42db-877a-c9e40db32309"
      },
      "execution_count": null,
      "outputs": [
        {
          "output_type": "execute_result",
          "data": {
            "text/plain": [
              "         tsne1      tsne2 cancer_types\n",
              "0   -34.617409   0.747838         PRAD\n",
              "1    16.970203   0.223441         LUAD\n",
              "2   -38.648388  -6.252108         PRAD\n",
              "3   -37.615322  -6.032052         PRAD\n",
              "4    -4.964499  23.978348         BRCA\n",
              "..         ...        ...          ...\n",
              "796  -7.554337  22.699709         BRCA\n",
              "797  26.228640  -2.027611         LUAD\n",
              "798  39.152790 -10.786096         COAD\n",
              "799 -34.355946  -2.834354         PRAD\n",
              "800 -29.244766  -5.999801         PRAD\n",
              "\n",
              "[801 rows x 3 columns]"
            ],
            "text/html": [
              "\n",
              "  <div id=\"df-da17e0d1-1e9f-4f9b-a685-2658e3d106fe\">\n",
              "    <div class=\"colab-df-container\">\n",
              "      <div>\n",
              "<style scoped>\n",
              "    .dataframe tbody tr th:only-of-type {\n",
              "        vertical-align: middle;\n",
              "    }\n",
              "\n",
              "    .dataframe tbody tr th {\n",
              "        vertical-align: top;\n",
              "    }\n",
              "\n",
              "    .dataframe thead th {\n",
              "        text-align: right;\n",
              "    }\n",
              "</style>\n",
              "<table border=\"1\" class=\"dataframe\">\n",
              "  <thead>\n",
              "    <tr style=\"text-align: right;\">\n",
              "      <th></th>\n",
              "      <th>tsne1</th>\n",
              "      <th>tsne2</th>\n",
              "      <th>cancer_types</th>\n",
              "    </tr>\n",
              "  </thead>\n",
              "  <tbody>\n",
              "    <tr>\n",
              "      <th>0</th>\n",
              "      <td>-34.617409</td>\n",
              "      <td>0.747838</td>\n",
              "      <td>PRAD</td>\n",
              "    </tr>\n",
              "    <tr>\n",
              "      <th>1</th>\n",
              "      <td>16.970203</td>\n",
              "      <td>0.223441</td>\n",
              "      <td>LUAD</td>\n",
              "    </tr>\n",
              "    <tr>\n",
              "      <th>2</th>\n",
              "      <td>-38.648388</td>\n",
              "      <td>-6.252108</td>\n",
              "      <td>PRAD</td>\n",
              "    </tr>\n",
              "    <tr>\n",
              "      <th>3</th>\n",
              "      <td>-37.615322</td>\n",
              "      <td>-6.032052</td>\n",
              "      <td>PRAD</td>\n",
              "    </tr>\n",
              "    <tr>\n",
              "      <th>4</th>\n",
              "      <td>-4.964499</td>\n",
              "      <td>23.978348</td>\n",
              "      <td>BRCA</td>\n",
              "    </tr>\n",
              "    <tr>\n",
              "      <th>...</th>\n",
              "      <td>...</td>\n",
              "      <td>...</td>\n",
              "      <td>...</td>\n",
              "    </tr>\n",
              "    <tr>\n",
              "      <th>796</th>\n",
              "      <td>-7.554337</td>\n",
              "      <td>22.699709</td>\n",
              "      <td>BRCA</td>\n",
              "    </tr>\n",
              "    <tr>\n",
              "      <th>797</th>\n",
              "      <td>26.228640</td>\n",
              "      <td>-2.027611</td>\n",
              "      <td>LUAD</td>\n",
              "    </tr>\n",
              "    <tr>\n",
              "      <th>798</th>\n",
              "      <td>39.152790</td>\n",
              "      <td>-10.786096</td>\n",
              "      <td>COAD</td>\n",
              "    </tr>\n",
              "    <tr>\n",
              "      <th>799</th>\n",
              "      <td>-34.355946</td>\n",
              "      <td>-2.834354</td>\n",
              "      <td>PRAD</td>\n",
              "    </tr>\n",
              "    <tr>\n",
              "      <th>800</th>\n",
              "      <td>-29.244766</td>\n",
              "      <td>-5.999801</td>\n",
              "      <td>PRAD</td>\n",
              "    </tr>\n",
              "  </tbody>\n",
              "</table>\n",
              "<p>801 rows × 3 columns</p>\n",
              "</div>\n",
              "      <button class=\"colab-df-convert\" onclick=\"convertToInteractive('df-da17e0d1-1e9f-4f9b-a685-2658e3d106fe')\"\n",
              "              title=\"Convert this dataframe to an interactive table.\"\n",
              "              style=\"display:none;\">\n",
              "        \n",
              "  <svg xmlns=\"http://www.w3.org/2000/svg\" height=\"24px\"viewBox=\"0 0 24 24\"\n",
              "       width=\"24px\">\n",
              "    <path d=\"M0 0h24v24H0V0z\" fill=\"none\"/>\n",
              "    <path d=\"M18.56 5.44l.94 2.06.94-2.06 2.06-.94-2.06-.94-.94-2.06-.94 2.06-2.06.94zm-11 1L8.5 8.5l.94-2.06 2.06-.94-2.06-.94L8.5 2.5l-.94 2.06-2.06.94zm10 10l.94 2.06.94-2.06 2.06-.94-2.06-.94-.94-2.06-.94 2.06-2.06.94z\"/><path d=\"M17.41 7.96l-1.37-1.37c-.4-.4-.92-.59-1.43-.59-.52 0-1.04.2-1.43.59L10.3 9.45l-7.72 7.72c-.78.78-.78 2.05 0 2.83L4 21.41c.39.39.9.59 1.41.59.51 0 1.02-.2 1.41-.59l7.78-7.78 2.81-2.81c.8-.78.8-2.07 0-2.86zM5.41 20L4 18.59l7.72-7.72 1.47 1.35L5.41 20z\"/>\n",
              "  </svg>\n",
              "      </button>\n",
              "      \n",
              "  <style>\n",
              "    .colab-df-container {\n",
              "      display:flex;\n",
              "      flex-wrap:wrap;\n",
              "      gap: 12px;\n",
              "    }\n",
              "\n",
              "    .colab-df-convert {\n",
              "      background-color: #E8F0FE;\n",
              "      border: none;\n",
              "      border-radius: 50%;\n",
              "      cursor: pointer;\n",
              "      display: none;\n",
              "      fill: #1967D2;\n",
              "      height: 32px;\n",
              "      padding: 0 0 0 0;\n",
              "      width: 32px;\n",
              "    }\n",
              "\n",
              "    .colab-df-convert:hover {\n",
              "      background-color: #E2EBFA;\n",
              "      box-shadow: 0px 1px 2px rgba(60, 64, 67, 0.3), 0px 1px 3px 1px rgba(60, 64, 67, 0.15);\n",
              "      fill: #174EA6;\n",
              "    }\n",
              "\n",
              "    [theme=dark] .colab-df-convert {\n",
              "      background-color: #3B4455;\n",
              "      fill: #D2E3FC;\n",
              "    }\n",
              "\n",
              "    [theme=dark] .colab-df-convert:hover {\n",
              "      background-color: #434B5C;\n",
              "      box-shadow: 0px 1px 3px 1px rgba(0, 0, 0, 0.15);\n",
              "      filter: drop-shadow(0px 1px 2px rgba(0, 0, 0, 0.3));\n",
              "      fill: #FFFFFF;\n",
              "    }\n",
              "  </style>\n",
              "\n",
              "      <script>\n",
              "        const buttonEl =\n",
              "          document.querySelector('#df-da17e0d1-1e9f-4f9b-a685-2658e3d106fe button.colab-df-convert');\n",
              "        buttonEl.style.display =\n",
              "          google.colab.kernel.accessAllowed ? 'block' : 'none';\n",
              "\n",
              "        async function convertToInteractive(key) {\n",
              "          const element = document.querySelector('#df-da17e0d1-1e9f-4f9b-a685-2658e3d106fe');\n",
              "          const dataTable =\n",
              "            await google.colab.kernel.invokeFunction('convertToInteractive',\n",
              "                                                     [key], {});\n",
              "          if (!dataTable) return;\n",
              "\n",
              "          const docLinkHtml = 'Like what you see? Visit the ' +\n",
              "            '<a target=\"_blank\" href=https://colab.research.google.com/notebooks/data_table.ipynb>data table notebook</a>'\n",
              "            + ' to learn more about interactive tables.';\n",
              "          element.innerHTML = '';\n",
              "          dataTable['output_type'] = 'display_data';\n",
              "          await google.colab.output.renderOutput(dataTable, element);\n",
              "          const docLink = document.createElement('div');\n",
              "          docLink.innerHTML = docLinkHtml;\n",
              "          element.appendChild(docLink);\n",
              "        }\n",
              "      </script>\n",
              "    </div>\n",
              "  </div>\n",
              "  "
            ]
          },
          "metadata": {},
          "execution_count": 55
        }
      ]
    },
    {
      "cell_type": "code",
      "source": [
        "import scipy.stats as stats\n",
        "\n",
        "df_anova_tsne = tSNE_d[['tsne1','cancer_types']]\n",
        "groups_tsne = pd.unique(df_anova_tsne.cancer_types.values)\n",
        "\n",
        "d_data = {grp:df_anova_tsne['tsne1'][df_anova_tsne.cancer_types == grp] for grp in groups_tsne}\n",
        "F, p = stats.f_oneway(d_data['LUAD'], d_data['PRAD'], d_data['BRCA'], d_data['KIRC'], d_data['COAD'])\n",
        "\n",
        "if p<0.05:\n",
        "    print(\"reject null hypothesis\")\n",
        "else:\n",
        "    print(\"accept null hypothesis\")"
      ],
      "metadata": {
        "colab": {
          "base_uri": "https://localhost:8080/"
        },
        "id": "uxACa8gFi5KN",
        "outputId": "9352d777-fddf-46aa-fbad-3db2e9126b72"
      },
      "execution_count": null,
      "outputs": [
        {
          "output_type": "stream",
          "name": "stdout",
          "text": [
            "reject null hypothesis\n"
          ]
        }
      ]
    },
    {
      "cell_type": "code",
      "source": [
        "df_anova_tsne = tSNE_d[['tsne2','cancer_types']]\n",
        "groups_tsne = pd.unique(df_anova_tsne.cancer_types.values)\n",
        "\n",
        "d_data = {grp:df_anova_tsne['tsne2'][df_anova_tsne.cancer_types == grp] for grp in groups_tsne}\n",
        "F, p = stats.f_oneway(d_data['LUAD'], d_data['PRAD'], d_data['BRCA'], d_data['KIRC'], d_data['COAD'])\n",
        "\n",
        "if p>0.05:\n",
        "    print(\"reject null hypothesis\")\n",
        "else:\n",
        "    print(\"accept null hypothesis\")"
      ],
      "metadata": {
        "colab": {
          "base_uri": "https://localhost:8080/"
        },
        "id": "r4O2dxWJnp_f",
        "outputId": "d91dad04-c4f3-4878-eec1-42a95aec1af0"
      },
      "execution_count": null,
      "outputs": [
        {
          "output_type": "stream",
          "name": "stdout",
          "text": [
            "accept null hypothesis\n"
          ]
        }
      ]
    },
    {
      "cell_type": "code",
      "source": [],
      "metadata": {
        "id": "CNGWxVfjJaSW"
      },
      "execution_count": null,
      "outputs": []
    }
  ]
}